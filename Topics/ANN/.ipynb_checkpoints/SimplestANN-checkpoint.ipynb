{
 "cells": [
  {
   "cell_type": "code",
   "execution_count": 4,
   "metadata": {},
   "outputs": [
    {
     "name": "stdout",
     "output_type": "stream",
     "text": [
      "Epoch 1/40\n",
      "4/4 [==============================] - 0s - loss: 5.0532 - acc: 0.5000         \n",
      "Epoch 2/40\n",
      "4/4 [==============================] - 0s - loss: 0.4201 - acc: 0.5000         \n",
      "Epoch 3/40\n",
      "4/4 [==============================] - 0s - loss: 0.3594 - acc: 0.7500         \n",
      "Epoch 4/40\n",
      "4/4 [==============================] - 0s - loss: 0.3114 - acc: 0.7500         \n",
      "Epoch 5/40\n",
      "4/4 [==============================] - 0s - loss: 0.2860 - acc: 1.0000     \n",
      "Epoch 6/40\n",
      "4/4 [==============================] - 0s - loss: 0.2680 - acc: 1.0000     \n",
      "Epoch 7/40\n",
      "4/4 [==============================] - 0s - loss: 0.2518 - acc: 1.0000     \n",
      "Epoch 8/40\n",
      "4/4 [==============================] - 0s - loss: 0.2377 - acc: 1.0000     \n",
      "Epoch 9/40\n",
      "4/4 [==============================] - 0s - loss: 0.2251 - acc: 1.0000     \n",
      "Epoch 10/40\n",
      "4/4 [==============================] - 0s - loss: 0.2135 - acc: 1.0000     \n",
      "Epoch 11/40\n",
      "4/4 [==============================] - 0s - loss: 0.2026 - acc: 1.0000         \n",
      "Epoch 12/40\n",
      "4/4 [==============================] - 0s - loss: 0.1923 - acc: 1.0000         \n",
      "Epoch 13/40\n",
      "4/4 [==============================] - 0s - loss: 0.1825 - acc: 1.0000     \n",
      "Epoch 14/40\n",
      "4/4 [==============================] - 0s - loss: 0.1734 - acc: 1.0000     \n",
      "Epoch 15/40\n",
      "4/4 [==============================] - 0s - loss: 0.1645 - acc: 1.0000     \n",
      "Epoch 16/40\n",
      "4/4 [==============================] - 0s - loss: 0.1562 - acc: 1.0000     \n",
      "Epoch 17/40\n",
      "4/4 [==============================] - 0s - loss: 0.1479 - acc: 1.0000         \n",
      "Epoch 18/40\n",
      "4/4 [==============================] - 0s - loss: 0.1385 - acc: 1.0000     \n",
      "Epoch 19/40\n",
      "4/4 [==============================] - 0s - loss: 0.1328 - acc: 1.0000     \n",
      "Epoch 20/40\n",
      "4/4 [==============================] - 0s - loss: 0.1252 - acc: 1.0000     \n",
      "Epoch 21/40\n",
      "4/4 [==============================] - 0s - loss: 0.1179 - acc: 1.0000     \n",
      "Epoch 22/40\n",
      "4/4 [==============================] - 0s - loss: 0.1109 - acc: 1.0000         \n",
      "Epoch 23/40\n",
      "4/4 [==============================] - 0s - loss: 0.1041 - acc: 1.0000     \n",
      "Epoch 24/40\n",
      "4/4 [==============================] - 0s - loss: 0.0973 - acc: 1.0000         \n",
      "Epoch 25/40\n",
      "4/4 [==============================] - 0s - loss: 0.0909 - acc: 1.0000     \n",
      "Epoch 26/40\n",
      "4/4 [==============================] - 0s - loss: 0.0844 - acc: 1.0000     \n",
      "Epoch 27/40\n",
      "4/4 [==============================] - 0s - loss: 0.0783 - acc: 1.0000     \n",
      "Epoch 28/40\n",
      "4/4 [==============================] - 0s - loss: 0.0722 - acc: 1.0000     \n",
      "Epoch 29/40\n",
      "4/4 [==============================] - 0s - loss: 0.0662 - acc: 1.0000     \n",
      "Epoch 30/40\n",
      "4/4 [==============================] - 0s - loss: 0.0589 - acc: 1.0000         \n",
      "Epoch 31/40\n",
      "4/4 [==============================] - 0s - loss: 0.0568 - acc: 1.0000     \n",
      "Epoch 32/40\n",
      "4/4 [==============================] - 0s - loss: 0.0510 - acc: 1.0000     \n",
      "Epoch 33/40\n",
      "4/4 [==============================] - 0s - loss: 0.0453 - acc: 1.0000     \n",
      "Epoch 34/40\n",
      "4/4 [==============================] - 0s - loss: 0.0431 - acc: 1.0000         \n",
      "Epoch 35/40\n",
      "4/4 [==============================] - 0s - loss: 0.0365 - acc: 1.0000     \n",
      "Epoch 36/40\n",
      "4/4 [==============================] - 0s - loss: 0.0342 - acc: 1.0000     \n",
      "Epoch 37/40\n",
      "4/4 [==============================] - 0s - loss: 0.0287 - acc: 1.0000         \n",
      "Epoch 38/40\n",
      "4/4 [==============================] - 0s - loss: 0.0250 - acc: 1.0000     \n",
      "Epoch 39/40\n",
      "4/4 [==============================] - 0s - loss: 0.0206 - acc: 1.0000         \n",
      "Epoch 40/40\n",
      "4/4 [==============================] - 0s - loss: 0.0155 - acc: 1.0000         \n"
     ]
    },
    {
     "data": {
      "text/plain": [
       "<keras.callbacks.History at 0xd723a90>"
      ]
     },
     "execution_count": 4,
     "metadata": {},
     "output_type": "execute_result"
    }
   ],
   "source": [
    "#To define the first layer we need to import Sequential model\n",
    "from keras.models import Sequential\n",
    "\n",
    "#To define the hidden layers and output layer we need to import Dense Layer\n",
    "from keras.layers import Dense\n",
    "\n",
    "import pandas as pd\n",
    "\n",
    "import numpy as np\n",
    "\n",
    "#Created data using list, such that output is dependent upon B directly\n",
    "data = [[1, 0, 0],[1, 1, 1],[0, 0, 0], [0 ,1, 1]]\n",
    "\n",
    "#created dataframe using pandas\n",
    "data = pd.DataFrame(data, columns = ['A','B','C'])\n",
    "\n",
    "#Input features by dropping the output variable\n",
    "X = data.drop('C',axis=1)\n",
    "\n",
    "#the target variable\n",
    "y = data['C']\n",
    "\n",
    "simplemodel = Sequential()\n",
    "\n",
    "#here we have 2 inputs and 1 output linear activation function and uniform kernel initializer\n",
    "#that means weights will be uniformly distributed\n",
    "simplemodel.add(Dense(units = 1,activation='linear',kernel_initializer = 'uniform',input_dim = 2))\n",
    "\n",
    "#Here I am using stochastic gradient descent for backpropagation, binary crossentropy as a loss function\n",
    "#and accuracy as the metric\n",
    "simplemodel.compile(optimizer= 'sgd',loss = 'binary_crossentropy',metrics=['accuracy'])\n",
    "\n",
    "#Fit the data on the model\n",
    "simplemodel.fit(X.values,y.values,epochs=40,batch_size=1)"
   ]
  },
  {
   "cell_type": "code",
   "execution_count": 5,
   "metadata": {},
   "outputs": [
    {
     "data": {
      "text/html": [
       "<div>\n",
       "<style>\n",
       "    .dataframe thead tr:only-child th {\n",
       "        text-align: right;\n",
       "    }\n",
       "\n",
       "    .dataframe thead th {\n",
       "        text-align: left;\n",
       "    }\n",
       "\n",
       "    .dataframe tbody tr th {\n",
       "        vertical-align: top;\n",
       "    }\n",
       "</style>\n",
       "<table border=\"1\" class=\"dataframe\">\n",
       "  <thead>\n",
       "    <tr style=\"text-align: right;\">\n",
       "      <th></th>\n",
       "      <th>A</th>\n",
       "      <th>B</th>\n",
       "      <th>C</th>\n",
       "    </tr>\n",
       "  </thead>\n",
       "  <tbody>\n",
       "    <tr>\n",
       "      <th>0</th>\n",
       "      <td>1</td>\n",
       "      <td>0</td>\n",
       "      <td>0</td>\n",
       "    </tr>\n",
       "    <tr>\n",
       "      <th>1</th>\n",
       "      <td>1</td>\n",
       "      <td>1</td>\n",
       "      <td>1</td>\n",
       "    </tr>\n",
       "    <tr>\n",
       "      <th>2</th>\n",
       "      <td>0</td>\n",
       "      <td>0</td>\n",
       "      <td>0</td>\n",
       "    </tr>\n",
       "    <tr>\n",
       "      <th>3</th>\n",
       "      <td>0</td>\n",
       "      <td>1</td>\n",
       "      <td>1</td>\n",
       "    </tr>\n",
       "  </tbody>\n",
       "</table>\n",
       "</div>"
      ],
      "text/plain": [
       "   A  B  C\n",
       "0  1  0  0\n",
       "1  1  1  1\n",
       "2  0  0  0\n",
       "3  0  1  1"
      ]
     },
     "execution_count": 5,
     "metadata": {},
     "output_type": "execute_result"
    }
   ],
   "source": [
    "data"
   ]
  },
  {
   "cell_type": "code",
   "execution_count": 6,
   "metadata": {},
   "outputs": [
    {
     "name": "stdout",
     "output_type": "stream",
     "text": [
      "[[False]]\n"
     ]
    }
   ],
   "source": [
    "#set the threshold\n",
    "threshold = 0.5\n",
    "\n",
    "#ask a question to the model\n",
    "predicted_output = simplemodel.predict(np.array([[1,0]]))\n",
    "\n",
    "#check if the value provided by model is > threshold or not, if yes output 1 else 0\n",
    "print (predicted_output>threshold)"
   ]
  }
 ],
 "metadata": {
  "kernelspec": {
   "display_name": "Python 3",
   "language": "python",
   "name": "python3"
  },
  "language_info": {
   "codemirror_mode": {
    "name": "ipython",
    "version": 3
   },
   "file_extension": ".py",
   "mimetype": "text/x-python",
   "name": "python",
   "nbconvert_exporter": "python",
   "pygments_lexer": "ipython3",
   "version": "3.6.1"
  }
 },
 "nbformat": 4,
 "nbformat_minor": 2
}
